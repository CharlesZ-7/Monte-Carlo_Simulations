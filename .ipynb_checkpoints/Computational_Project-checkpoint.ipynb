{
  "cells": [
    {
      "cell_type": "markdown",
      "source": [
        "Junjie Zheng"
      ],
      "metadata": {
        "id": "D5Busy55RB3e"
      },
      "id": "D5Busy55RB3e"
    },
    {
      "cell_type": "code",
      "execution_count": 1,
      "id": "7d538f21-d7bd-4fb9-8b8f-9c4c77fcad7d",
      "metadata": {
        "id": "7d538f21-d7bd-4fb9-8b8f-9c4c77fcad7d"
      },
      "outputs": [],
      "source": [
        "import numpy as np\n",
        "from scipy.stats import norm"
      ]
    },
    {
      "cell_type": "code",
      "execution_count": 2,
      "id": "8fd9929e-4668-4663-8d8f-59fc030724ee",
      "metadata": {
        "id": "8fd9929e-4668-4663-8d8f-59fc030724ee"
      },
      "outputs": [],
      "source": [
        "def BLS_Call(S0, K, T, r, sigma):\n",
        "        if K != 0:\n",
        "            theta = np.log(K / S0) / (sigma * np.sqrt(T)) + (sigma / 2 - r / sigma) * np.sqrt(T)\n",
        "            return S0 * norm.cdf(sigma * np.sqrt(T) - theta) - K * np.exp(-r * T) * norm.cdf(-theta)\n",
        "        else:\n",
        "            return S0"
      ]
    },
    {
      "cell_type": "markdown",
      "id": "f51af421-7e9b-4c1f-b323-f71b2a7fd65b",
      "metadata": {
        "id": "f51af421-7e9b-4c1f-b323-f71b2a7fd65b"
      },
      "source": [
        "Simulation of Basket Call Option Prices"
      ]
    },
    {
      "cell_type": "code",
      "execution_count": 3,
      "id": "085dd5bb-7380-4ee5-a109-3dbc14056490",
      "metadata": {
        "id": "085dd5bb-7380-4ee5-a109-3dbc14056490"
      },
      "outputs": [],
      "source": [
        "def plain_monte_carlo(r, sigma1, sigma2, rho, X0, Y0, T, K, c1, c2, n):\n",
        "    # Generate correlated normals for Z1 and Z2\n",
        "    mean = [0, 0]\n",
        "    cov = [[1, rho], [rho, 1]]\n",
        "    Z = np.random.multivariate_normal(mean, cov, n)\n",
        "    Z1 = Z[:, 0]\n",
        "    Z2 = Z[:, 1]\n",
        "\n",
        "    # Calculate stock prices at maturity\n",
        "    X_T = X0 * np.exp((r - 0.5 * sigma1**2) * T + sigma1 * np.sqrt(T) * Z1)\n",
        "    Y_T = Y0 * np.exp((r - 0.5 * sigma2**2) * T + sigma2 * np.sqrt(T) * Z2)\n",
        "\n",
        "    # Calculate payoffs\n",
        "    V_pre = np.maximum(c1 * X_T + c2 * Y_T - K, 0) * np.exp(-r * T)\n",
        "    V = np.mean(V_pre)\n",
        "    SE = np.std(V_pre) / np.sqrt(n)\n",
        "\n",
        "    return V, SE"
      ]
    },
    {
      "cell_type": "code",
      "execution_count": 4,
      "id": "5aa0cf8e-c3ea-4002-97b5-6dd694285402",
      "metadata": {
        "id": "5aa0cf8e-c3ea-4002-97b5-6dd694285402"
      },
      "outputs": [],
      "source": [
        "def method_of_conditioning(r, sigma1, sigma2, rho, X0, Y0, T, K, c1, c2, n):\n",
        "\n",
        "    sigma_eff = sigma1 * np.sqrt(1 - rho**2)\n",
        "\n",
        "    # Generate Z2 values\n",
        "    Z2 = np.random.normal(0, 1, n)\n",
        "    V_cond = []\n",
        "\n",
        "    for z in Z2:\n",
        "        K_eff = np.maximum(K - c2 * Y0 * np.exp((r - 0.5 * sigma2**2) * T + sigma2 * np.sqrt(T) * z), 0)\n",
        "        S0 = c1 * X0 * np.exp(sigma1 * np.sqrt(T) * rho * z - 0.5 * sigma1**2 * rho**2 * T)\n",
        "        if K_eff > 0:\n",
        "          V_cond.append(BLS_Call(S0, K_eff, T, r, sigma_eff))\n",
        "        else:\n",
        "          V_cond.append(S0 - np.exp(-r * T))\n",
        "\n",
        "    V = np.mean(V_cond)\n",
        "    SE = np.std(V_cond) / np.sqrt(n)\n",
        "\n",
        "    return V, SE\n"
      ]
    },
    {
      "cell_type": "code",
      "execution_count": 5,
      "id": "c28b5685-1e06-42be-aa21-93011dc51b2d",
      "metadata": {
        "id": "c28b5685-1e06-42be-aa21-93011dc51b2d",
        "outputId": "9b7393be-5cfe-4d72-865f-710c004265c6",
        "colab": {
          "base_uri": "https://localhost:8080/"
        }
      },
      "outputs": [
        {
          "output_type": "stream",
          "name": "stdout",
          "text": [
            "Plain Monte Carlo Estimate: 4.693198372134479, Standard Error: 0.07832769572872399\n",
            "Method of Conditioning Estimate: 4.716921394736531, Standard Error: 0.07242773901965338\n"
          ]
        }
      ],
      "source": [
        "# Parameters and simulation setup\n",
        "params = {\n",
        "    'r': 0.1, 'sigma1': 0.2, 'sigma2': 0.3, 'rho': 0.7,\n",
        "    'X0': 50, 'Y0': 50, 'T': 1, 'K': 55, 'c1': 0.5, 'c2': 0.5, 'n': 10000\n",
        "}\n",
        "\n",
        "# Plain Monte Carlo estimate\n",
        "mc_estimate, mc_se = plain_monte_carlo(**params)\n",
        "print(f\"Plain Monte Carlo Estimate: {mc_estimate}, Standard Error: {mc_se}\")\n",
        "\n",
        "# Method of Conditioning estimate\n",
        "cond_estimate, cond_se = method_of_conditioning(**params)\n",
        "print(f\"Method of Conditioning Estimate: {cond_estimate}, Standard Error: {cond_se}\")\n"
      ]
    },
    {
      "cell_type": "markdown",
      "id": "caa432b4-5886-4a6d-ba28-01f167723f36",
      "metadata": {
        "id": "caa432b4-5886-4a6d-ba28-01f167723f36"
      },
      "source": [
        "Estimation of a Vertical Spread under Stochastic Volatility"
      ]
    },
    {
      "cell_type": "code",
      "execution_count": 6,
      "id": "e40af703-89c4-4def-bcea-dee8b88933d4",
      "metadata": {
        "id": "e40af703-89c4-4def-bcea-dee8b88933d4"
      },
      "outputs": [],
      "source": [
        "import numpy as np\n",
        "from scipy.stats import norm\n",
        "\n",
        "def euler_scheme_with_control_variates(r, a, Theta, beta, S0, theta0, T, K1, K2, rho, m, n, sigma):\n",
        "    dt = T / m  # time increment\n",
        "\n",
        "    # Random numbers for shared use in stock and control variates\n",
        "    Z = np.random.randn(n, 2 * m)\n",
        "\n",
        "    W_orig = []\n",
        "    W_cont = []\n",
        "\n",
        "    for i in range(n):\n",
        "        Y_hat = Y_bar = np.log(S0)\n",
        "        theta = theta0\n",
        "        for j in range(m):\n",
        "            Z1 = Z[i][j]\n",
        "            Z2 = rho * Z1 + np.sqrt(1 - rho**2) * Z[i][j + m]\n",
        "            Y_hat += (r - 0.5 * theta**2) * dt + theta * np.sqrt(dt) * Z1\n",
        "            Y_bar += (r - 0.5 * sigma**2) * dt + sigma * np.sqrt(dt) * Z1\n",
        "            theta += a * (Theta - theta) * dt + beta * np.sqrt(dt) * Z2\n",
        "\n",
        "        ST_hat = np.exp(Y_hat)\n",
        "        ST_bar = np.exp(Y_bar)\n",
        "        payoff_hat = (np.maximum(ST_hat - K1, 0) - np.maximum(ST_hat - K2, 0)) * np.exp(-r * T)\n",
        "        payoff_bar = np.maximum(ST_bar - 0.5 * (K1 + K2), 0) * np.exp(-r * T)\n",
        "        control = BLS_Call(S0, 0.5 * (K1 + K2), T, r, sigma)\n",
        "\n",
        "        W_orig.append(payoff_hat)\n",
        "        W_cont.append(payoff_bar - control)\n",
        "\n",
        "    V_orig = np.mean(W_orig)\n",
        "    SE_orig = np.std(W_orig) / np.sqrt(n)\n",
        "    b = -np.cov(W_orig, W_cont)[0, 1] / np.var(W_cont)\n",
        "    V_cont = V_orig + b * np.mean(W_cont)\n",
        "    SE_cont = np.sqrt(SE_orig**2 + b**2 * np.var(W_cont) / n)\n",
        "\n",
        "    return V_orig, SE_orig, V_cont, SE_cont\n"
      ]
    },
    {
      "cell_type": "code",
      "execution_count": 7,
      "id": "63762e35-4691-4b63-bbcf-2c8a2f5d7c6f",
      "metadata": {
        "id": "63762e35-4691-4b63-bbcf-2c8a2f5d7c6f",
        "outputId": "9a6b824b-c63b-4f4f-a6bf-4988e85e89e6",
        "colab": {
          "base_uri": "https://localhost:8080/"
        }
      },
      "outputs": [
        {
          "output_type": "stream",
          "name": "stdout",
          "text": [
            "Plain Euler Estimate: 0.9517050840933918, Standard Error: 0.008486693223387251\n",
            "Controlled Euler Estimate: 0.9628713880858786, Standard Error: 0.010341126939454336\n"
          ]
        }
      ],
      "source": [
        "# Model parameters\n",
        "params = {\n",
        "    'r': 0.1, 'a': 3, 'Theta': 0.2, 'beta': 0.1, 'S0': 20, 'theta0': 0.25,\n",
        "    'T': 1, 'K1': 20, 'K2': 22, 'rho': 0.5, 'm': 50, 'n': 10000, 'sigma': 0.2\n",
        "}\n",
        "\n",
        "# Simulation\n",
        "plain_estimate, plain_se, control_estimate, control_se = euler_scheme_with_control_variates(**params)\n",
        "\n",
        "print(f\"Plain Euler Estimate: {plain_estimate}, Standard Error: {plain_se}\")\n",
        "print(f\"Controlled Euler Estimate: {control_estimate}, Standard Error: {control_se}\")\n"
      ]
    },
    {
      "cell_type": "code",
      "source": [],
      "metadata": {
        "id": "HVMlSNTP602L"
      },
      "id": "HVMlSNTP602L",
      "execution_count": null,
      "outputs": []
    }
  ],
  "metadata": {
    "kernelspec": {
      "display_name": "Python 3 (ipykernel)",
      "language": "python",
      "name": "python3"
    },
    "language_info": {
      "codemirror_mode": {
        "name": "ipython",
        "version": 3
      },
      "file_extension": ".py",
      "mimetype": "text/x-python",
      "name": "python",
      "nbconvert_exporter": "python",
      "pygments_lexer": "ipython3",
      "version": "3.11.5"
    },
    "colab": {
      "provenance": []
    }
  },
  "nbformat": 4,
  "nbformat_minor": 5
}